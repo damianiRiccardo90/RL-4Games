{
  "nbformat": 4,
  "nbformat_minor": 0,
  "metadata": {
    "celltoolbar": "Raw Cell Format",
    "kernelspec": {
      "display_name": "Python 3",
      "language": "python",
      "name": "python3"
    },
    "language_info": {
      "codemirror_mode": {
        "name": "ipython",
        "version": 3
      },
      "file_extension": ".py",
      "mimetype": "text/x-python",
      "name": "python",
      "nbconvert_exporter": "python",
      "pygments_lexer": "ipython3",
      "version": "3.7.6"
    },
    "colab": {
      "name": "Chapter_3_2.ipynb",
      "provenance": [],
      "include_colab_link": true
    }
  },
  "cells": [
    {
      "cell_type": "markdown",
      "metadata": {
        "id": "view-in-github",
        "colab_type": "text"
      },
      "source": [
        "<a href=\"https://colab.research.google.com/github/damianiRiccardo90/RL-4Games/blob/master/C3-Monte_Carlo_Methods/Chapter_3_2.ipynb\" target=\"_parent\"><img src=\"https://colab.research.google.com/assets/colab-badge.svg\" alt=\"Open In Colab\"/></a>"
      ]
    },
    {
      "cell_type": "code",
      "source": [
        "import matplotlib.pyplot as plt\n",
        "from random import random\n",
        "\n",
        "ins = 0\n",
        "n = 1000\n",
        "\n",
        "x_ins = []\n",
        "y_ins = []\n",
        "x_outs = []\n",
        "y_outs = []\n",
        "\n",
        "for _ in range(n):\n",
        "    x = (random()-.5) * 2\n",
        "    y = (random()-.5) * 2 \n",
        "    if (x**2+y**2) <= 1:\n",
        "        ins += 1\n",
        "        x_ins.append(x)\n",
        "        y_ins.append(y)\n",
        "    else:\n",
        "        x_outs.append(x)\n",
        "        y_outs.append(y)\n",
        "\n",
        "pi = 4 * ins/n\n",
        "print(pi)\n",
        "\n",
        "fig, ax = plt.subplots()\n",
        "ax.set_aspect('equal')\n",
        "ax.scatter(x_ins, y_ins, color='g', marker='s')\n",
        "ax.scatter(x_outs, y_outs, color='r', marker='s')\n",
        "plt.show()\n"
      ],
      "metadata": {
        "id": "RwPGnRxtk0bE"
      },
      "execution_count": null,
      "outputs": []
    }
  ]
}