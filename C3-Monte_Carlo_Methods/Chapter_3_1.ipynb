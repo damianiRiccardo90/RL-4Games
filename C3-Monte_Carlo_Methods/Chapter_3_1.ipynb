{
  "nbformat": 4,
  "nbformat_minor": 0,
  "metadata": {
    "celltoolbar": "Raw Cell Format",
    "kernelspec": {
      "display_name": "Python 3",
      "language": "python",
      "name": "python3"
    },
    "language_info": {
      "codemirror_mode": {
        "name": "ipython",
        "version": 3
      },
      "file_extension": ".py",
      "mimetype": "text/x-python",
      "name": "python",
      "nbconvert_exporter": "python",
      "pygments_lexer": "ipython3",
      "version": "3.7.6"
    },
    "colab": {
      "name": "Chapter_3_1.ipynb",
      "provenance": [],
      "include_colab_link": true
    }
  },
  "cells": [
    {
      "cell_type": "markdown",
      "metadata": {
        "id": "view-in-github",
        "colab_type": "text"
      },
      "source": [
        "<a href=\"https://colab.research.google.com/github/damianiRiccardo90/RL-4Games/blob/master/C3-Monte_Carlo_Methods/Chapter_3_1.ipynb\" target=\"_parent\"><img src=\"https://colab.research.google.com/assets/colab-badge.svg\" alt=\"Open In Colab\"/></a>"
      ]
    },
    {
      "cell_type": "code",
      "source": [
        "from random import *\n",
        "from math import sqrt\n",
        "\n",
        "ins = 0\n",
        "n = 100000\n",
        "\n",
        "for i in range(0, n):\n",
        "    x = (random()-.5) * 2\n",
        "    y = (random()-.5) * 2\n",
        "    if sqrt(x*x+y*y)<=1:\n",
        "        ins+=1\n",
        "\n",
        "pi = 4 * ins / n\n",
        "print(pi)"
      ],
      "metadata": {
        "id": "JF2_fwyhI0Vp"
      },
      "execution_count": null,
      "outputs": []
    }
  ]
}