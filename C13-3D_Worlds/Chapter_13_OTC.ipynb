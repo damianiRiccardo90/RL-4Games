{
  "nbformat": 4,
  "nbformat_minor": 0,
  "metadata": {
    "celltoolbar": "Raw Cell Format",
    "kernelspec": {
      "display_name": "Python 3",
      "language": "python",
      "name": "python3"
    },
    "language_info": {
      "codemirror_mode": {
        "name": "ipython",
        "version": 3
      },
      "file_extension": ".py",
      "mimetype": "text/x-python",
      "name": "python",
      "nbconvert_exporter": "python",
      "pygments_lexer": "ipython3",
      "version": "3.7.6"
    },
    "colab": {
      "name": "Chapter_13_OTC.ipynb",
      "provenance": [],
      "include_colab_link": true
    }
  },
  "cells": [
    {
      "cell_type": "markdown",
      "metadata": {
        "id": "view-in-github",
        "colab_type": "text"
      },
      "source": [
        "<a href=\"https://colab.research.google.com/github/damianiRiccardo90/RL-4Games/blob/master/C13-3D_Worlds/Chapter_13_OTC.ipynb\" target=\"_parent\"><img src=\"https://colab.research.google.com/assets/colab-badge.svg\" alt=\"Open In Colab\"/></a>"
      ]
    },
    {
      "cell_type": "code",
      "source": [
        "from obstacle_tower_env import ObstacleTowerEnv, ObstacleTowerEvaluation\n",
        "\n",
        "\n",
        "def run_episode(env):\n",
        "    done = False\n",
        "    episode_return = 0.0\n",
        "    \n",
        "    while not done:\n",
        "        action = env.action_space.sample()\n",
        "        obs, reward, done, info = env.step(action)\n",
        "        episode_return += reward\n",
        "    return episode_return\n",
        "\n",
        "\n",
        "if __name__ == '__main__':\n",
        "    # In this example we use the seeds used for evaluating submissions \n",
        "    # to the Obstacle Tower Challenge.\n",
        "    eval_seeds = [1001, 1002, 1003, 1004, 1005]\n",
        "\n",
        "    # Create the ObstacleTowerEnv gym and launch ObstacleTower\n",
        "    env = ObstacleTowerEnv('./ObstacleTower/obstacletower')\n",
        "\n",
        "    # Wrap the environment with the ObstacleTowerEvaluation wrapper\n",
        "    # and provide evaluation seeds.\n",
        "    env = ObstacleTowerEvaluation(env, eval_seeds)\n",
        "\n",
        "    # We can run episodes (in this case with a random policy) until \n",
        "    # the \"evaluation_complete\" flag is True.  Attempting to step or reset after\n",
        "    # all of the evaluation seeds have completed will result in an exception.\n",
        "    while not env.evaluation_complete:\n",
        "        episode_rew = run_episode(env)\n",
        "\n",
        "    # Finally the evaluation results can be fetched as a dictionary from the \n",
        "    # environment wrapper.\n",
        "    print(env.results)\n",
        "\n",
        "    env.close()"
      ],
      "metadata": {
        "id": "ohXnV6pQRSqI"
      },
      "execution_count": null,
      "outputs": []
    }
  ]
}