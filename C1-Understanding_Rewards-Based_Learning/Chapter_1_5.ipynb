{
  "nbformat": 4,
  "nbformat_minor": 0,
  "metadata": {
    "celltoolbar": "Raw Cell Format",
    "kernelspec": {
      "display_name": "Python 3",
      "language": "python",
      "name": "python3"
    },
    "language_info": {
      "codemirror_mode": {
        "name": "ipython",
        "version": 3
      },
      "file_extension": ".py",
      "mimetype": "text/x-python",
      "name": "python",
      "nbconvert_exporter": "python",
      "pygments_lexer": "ipython3",
      "version": "3.7.6"
    },
    "colab": {
      "name": "Chapter_1_5.ipynb",
      "provenance": [],
      "include_colab_link": true
    }
  },
  "cells": [
    {
      "cell_type": "markdown",
      "metadata": {
        "id": "view-in-github",
        "colab_type": "text"
      },
      "source": [
        "<a href=\"https://colab.research.google.com/github/damianiRiccardo90/RL-4Games/blob/master/C1-Understanding_Rewards-Based_Learning/Chapter_1_5.ipynb\" target=\"_parent\"><img src=\"https://colab.research.google.com/assets/colab-badge.svg\" alt=\"Open In Colab\"/></a>"
      ]
    },
    {
      "cell_type": "code",
      "source": [
        "import random\n",
        "\n",
        "arms = 7\n",
        "bandits = 7\n",
        "learning_rate = .1\n",
        "gamma = .9\n",
        "episodes = 10000\n",
        "reward = []\n",
        "for i in range(bandits):  \n",
        "    reward.append([])       \n",
        "    for j in range(arms): \n",
        "        reward[i].append(random.uniform(-1,1))\n",
        "print(reward)\n",
        "\n",
        "Q = []\n",
        "for i in range(bandits):  \n",
        "    Q.append([])       \n",
        "    for j in range(arms): \n",
        "        Q[i].append(10.0)\n",
        "print(Q)\n",
        "\n",
        "def greedy(values):\n",
        "    return values.index(max(values))\n",
        "\n",
        "def learn(state, action, reward, next_state):\n",
        "    #q = gamma * max(Q[next_state])\n",
        "    q = 0\n",
        "    q += reward\n",
        "    q -= Q[state][action]\n",
        "    q *= learning_rate\n",
        "    q += Q[state][action]\n",
        "    Q[state][action] = q\n",
        "\n",
        "# agent learns\n",
        "bandit = random.randint(0,bandits-1)\n",
        "for i in range(0, episodes):\n",
        "    last_bandit = bandit\n",
        "    bandit = random.randint(0,bandits-1)\n",
        "    action = greedy(Q[bandit]) \n",
        "    r = reward[last_bandit][action]\n",
        "    learn(last_bandit, action, r, bandit)\n",
        "\n",
        "print(Q)"
      ],
      "metadata": {
        "id": "v-z6iosxfVUJ"
      },
      "execution_count": null,
      "outputs": []
    }
  ]
}