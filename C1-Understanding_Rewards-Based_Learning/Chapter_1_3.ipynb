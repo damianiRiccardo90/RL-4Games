{
  "nbformat": 4,
  "nbformat_minor": 0,
  "metadata": {
    "celltoolbar": "Raw Cell Format",
    "kernelspec": {
      "display_name": "Python 3",
      "language": "python",
      "name": "python3"
    },
    "language_info": {
      "codemirror_mode": {
        "name": "ipython",
        "version": 3
      },
      "file_extension": ".py",
      "mimetype": "text/x-python",
      "name": "python",
      "nbconvert_exporter": "python",
      "pygments_lexer": "ipython3",
      "version": "3.7.6"
    },
    "colab": {
      "name": "Chapter_1_3.ipynb",
      "provenance": [],
      "include_colab_link": true
    }
  },
  "cells": [
    {
      "cell_type": "markdown",
      "metadata": {
        "id": "view-in-github",
        "colab_type": "text"
      },
      "source": [
        "<a href=\"https://colab.research.google.com/github/damianiRiccardo90/RL-4Games/blob/master/C1-Understanding_Rewards-Based_Learning/Chapter_1_3.ipynb\" target=\"_parent\"><img src=\"https://colab.research.google.com/assets/colab-badge.svg\" alt=\"Open In Colab\"/></a>"
      ]
    },
    {
      "cell_type": "code",
      "source": [
        "import random\n",
        "\n",
        "reward = [1.0, 0.5, 0.2, 0.5, 0.6, 0.1, -.5]\n",
        "arms = len(reward)\n",
        "learning_rate = .1\n",
        "episodes = 10000\n",
        "Value = [5.0] * arms\n",
        "print(Value)\n",
        "\n",
        "def greedy(values):\n",
        "    return values.index(max(values))\n",
        "\n",
        "# agent learns\n",
        "for i in range(0, episodes):\n",
        "    action = greedy(Value)\n",
        "    Value[action] = Value[action] + learning_rate * (\n",
        "        reward[action] - Value[action])\n",
        "\n",
        "print(Value)"
      ],
      "metadata": {
        "id": "0-x7MEG2evEF"
      },
      "execution_count": null,
      "outputs": []
    }
  ]
}