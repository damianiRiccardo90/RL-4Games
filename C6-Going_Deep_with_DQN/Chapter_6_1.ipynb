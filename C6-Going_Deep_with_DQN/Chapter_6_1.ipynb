{
  "nbformat": 4,
  "nbformat_minor": 0,
  "metadata": {
    "celltoolbar": "Raw Cell Format",
    "kernelspec": {
      "display_name": "Python 3",
      "language": "python",
      "name": "python3"
    },
    "language_info": {
      "codemirror_mode": {
        "name": "ipython",
        "version": 3
      },
      "file_extension": ".py",
      "mimetype": "text/x-python",
      "name": "python",
      "nbconvert_exporter": "python",
      "pygments_lexer": "ipython3",
      "version": "3.7.6"
    },
    "colab": {
      "name": "Chapter_6_1.ipynb",
      "provenance": [],
      "include_colab_link": true
    }
  },
  "cells": [
    {
      "cell_type": "markdown",
      "metadata": {
        "id": "view-in-github",
        "colab_type": "text"
      },
      "source": [
        "<a href=\"https://colab.research.google.com/github/damianiRiccardo90/RL-4Games/blob/master/C6-Going_Deep_with_DQN/Chapter_6_1.ipynb\" target=\"_parent\"><img src=\"https://colab.research.google.com/assets/colab-badge.svg\" alt=\"Open In Colab\"/></a>"
      ]
    },
    {
      "cell_type": "code",
      "source": [
        "import torch\n",
        "\n",
        "dtype = torch.float\n",
        "device = torch.device(\"cpu\")\n",
        "# device = torch.device(\"cuda:0\") # Uncomment this to run on GPU\n",
        "\n",
        "batch_size, inputs, hidden, outputs = 64, 1000, 100, 10\n",
        "\n",
        "x = torch.randn(batch_size, inputs, device=device, dtype=dtype)\n",
        "y = torch.randn(batch_size, outputs, device=device, dtype=dtype)\n",
        "\n",
        "layer1 = torch.randn(inputs, hidden, device=device, dtype=dtype)\n",
        "layer2 = torch.randn(hidden, outputs, device=device, dtype=dtype)\n",
        "\n",
        "\n",
        "for t in range(500):    \n",
        "    h = x.mm(layer1)\n",
        "    h_relu = h.clamp(min=0)\n",
        "    y_pred = h_relu.mm(layer2)\n",
        "    \n",
        "    loss = (y_pred - y).pow(2).sum().item()\n",
        "    if t % 100 == 99:\n",
        "        print(t, loss)\n",
        "    \n",
        "    grad_y_pred = 2.0 * (y_pred - y)\n",
        "    grad_layer2 = h_relu.t().mm(grad_y_pred)\n",
        "    grad_h_relu = grad_y_pred.mm(layer2.t())\n",
        "    grad_h = grad_h_relu.clone()\n",
        "    grad_h[h < 0] = 0\n",
        "    grad_layer1 = x.t().mm(grad_h)\n",
        "    \n",
        "    layer1 -= learning_rate * grad_layer1\n",
        "    layer2 -= learning_rate * grad_layer2"
      ],
      "metadata": {
        "id": "mfvgpHfGy-y3"
      },
      "execution_count": null,
      "outputs": []
    }
  ]
}