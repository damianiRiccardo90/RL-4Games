{
  "nbformat": 4,
  "nbformat_minor": 0,
  "metadata": {
    "celltoolbar": "Raw Cell Format",
    "kernelspec": {
      "display_name": "Python 3",
      "language": "python",
      "name": "python3"
    },
    "language_info": {
      "codemirror_mode": {
        "name": "ipython",
        "version": 3
      },
      "file_extension": ".py",
      "mimetype": "text/x-python",
      "name": "python",
      "nbconvert_exporter": "python",
      "pygments_lexer": "ipython3",
      "version": "3.7.6"
    },
    "colab": {
      "name": "Chapter_2_4.ipynb",
      "provenance": [],
      "include_colab_link": true
    }
  },
  "cells": [
    {
      "cell_type": "markdown",
      "metadata": {
        "id": "view-in-github",
        "colab_type": "text"
      },
      "source": [
        "<a href=\"https://colab.research.google.com/github/damianiRiccardo90/RL-4Games/blob/master/C2-Dynamic_Programming_and_the_Bellman_Equation/Chapter_2_4.ipynb\" target=\"_parent\"><img src=\"https://colab.research.google.com/assets/colab-badge.svg\" alt=\"Open In Colab\"/></a>"
      ]
    },
    {
      "cell_type": "code",
      "source": [
        "from os import system, name\n",
        "import time\n",
        "import gym\n",
        "import numpy as np\n",
        "env = gym.make('FrozenLake-v0')\n",
        "env.reset()\n",
        "\n",
        "def clear():\n",
        "    if name == 'nt': \n",
        "        _ = system('cls')    \n",
        "    else: \n",
        "        _ = system('clear') \n",
        "\n",
        "for _ in range(1000):\n",
        "    clear()\n",
        "    env.render()\n",
        "    time.sleep(.5)\n",
        "    env.step(env.action_space.sample()) # take a random action\n",
        "env.close()"
      ],
      "metadata": {
        "id": "WPnUwwSE24J2"
      },
      "execution_count": null,
      "outputs": []
    }
  ]
}