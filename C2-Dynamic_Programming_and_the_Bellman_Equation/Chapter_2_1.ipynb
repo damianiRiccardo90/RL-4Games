{
  "nbformat": 4,
  "nbformat_minor": 0,
  "metadata": {
    "celltoolbar": "Raw Cell Format",
    "kernelspec": {
      "display_name": "Python 3",
      "language": "python",
      "name": "python3"
    },
    "language_info": {
      "codemirror_mode": {
        "name": "ipython",
        "version": 3
      },
      "file_extension": ".py",
      "mimetype": "text/x-python",
      "name": "python",
      "nbconvert_exporter": "python",
      "pygments_lexer": "ipython3",
      "version": "3.7.6"
    },
    "colab": {
      "name": "Chapter_2_1.ipynb",
      "provenance": [],
      "include_colab_link": true
    }
  },
  "cells": [
    {
      "cell_type": "markdown",
      "metadata": {
        "id": "view-in-github",
        "colab_type": "text"
      },
      "source": [
        "<a href=\"https://colab.research.google.com/github/damianiRiccardo90/RL-4Games/blob/master/C2-Dynamic_Programming_and_the_Bellman_Equation/Chapter_2_1.ipynb\" target=\"_parent\"><img src=\"https://colab.research.google.com/assets/colab-badge.svg\" alt=\"Open In Colab\"/></a>"
      ]
    },
    {
      "cell_type": "code",
      "source": [
        "def Fibonacci(n): \n",
        "    if n<0: \n",
        "        print(\"Outside bounds\")\n",
        "    elif n==1: \n",
        "        return 0 # n==1, returns 0     \n",
        "    elif n==2: \n",
        "        return 1 # n==2, returns 1\n",
        "    else: \n",
        "        return Fibonacci(n-1)+Fibonacci(n-2) \n",
        "  \n",
        "print(Fibonacci(9)) "
      ],
      "metadata": {
        "id": "81G3tBP3iM5F"
      },
      "execution_count": null,
      "outputs": []
    }
  ]
}