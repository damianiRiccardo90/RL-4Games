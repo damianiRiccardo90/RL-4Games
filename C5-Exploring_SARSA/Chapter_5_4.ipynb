{
  "nbformat": 4,
  "nbformat_minor": 0,
  "metadata": {
    "celltoolbar": "Raw Cell Format",
    "kernelspec": {
      "display_name": "Python 3",
      "language": "python",
      "name": "python3"
    },
    "language_info": {
      "codemirror_mode": {
        "name": "ipython",
        "version": 3
      },
      "file_extension": ".py",
      "mimetype": "text/x-python",
      "name": "python",
      "nbconvert_exporter": "python",
      "pygments_lexer": "ipython3",
      "version": "3.7.6"
    },
    "colab": {
      "name": "Chapter_5_4.ipynb",
      "provenance": [],
      "include_colab_link": true
    }
  },
  "cells": [
    {
      "cell_type": "markdown",
      "metadata": {
        "id": "view-in-github",
        "colab_type": "text"
      },
      "source": [
        "<a href=\"https://colab.research.google.com/github/damianiRiccardo90/RL-4Games/blob/master/C5-Exploring_SARSA/Chapter_5_4.ipynb\" target=\"_parent\"><img src=\"https://colab.research.google.com/assets/colab-badge.svg\" alt=\"Open In Colab\"/></a>"
      ]
    },
    {
      "cell_type": "code",
      "source": [
        "import gym\n",
        "import math\n",
        "from copy import deepcopy\n",
        "import numpy as np\n",
        "import matplotlib.pyplot as plt\n",
        "import seaborn as sns\n",
        "\n",
        "env = gym.make('MountainCar-v0')\n",
        "Q_table = np.zeros((65,65,3))\n",
        "alpha=0.3\n",
        "buckets=[65, 65]\n",
        "gamma=0.99\n",
        "rewards=[]\n",
        "episodes=2000\n",
        "lambdaa=0.8\n",
        "\n",
        "def to_discrete_states(observation):\n",
        "\tinterval=[0 for i in range(len(observation))]\n",
        "\tmax_range=[1.2,0.07]\t\n",
        "\n",
        "\tfor i in range(len(observation)):\n",
        "\t\tdata = observation[i]\n",
        "\t\tinter = int(math.floor((data + max_range[i])/(2*max_range[i]/buckets[i])))\n",
        "\t\tif inter>=buckets[i]:\n",
        "\t\t\tinterval[i]=buckets[i]-1\n",
        "\t\telif inter<0:\n",
        "\t\t\tinterval[i]=0\n",
        "\t\telse:\n",
        "\t\t\tinterval[i]=inter\n",
        "\treturn interval\n",
        "\n",
        "def expect_epsilon(t):\n",
        "    return min(0.015, 1.0 - math.log10((t+1)/220.))\n",
        "\n",
        "def get_action(observation,t):\n",
        "\tif np.random.random()<max(0.001, expect_epsilon(t)):\n",
        "\t\treturn env.action_space.sample()\n",
        "\tinterval = to_discrete_states(observation)\n",
        "\treturn np.argmax(np.array(Q_table[tuple(interval)]))\n",
        "\n",
        "def expect_alpha(t):\n",
        "    return min(0.1, 1.0 - math.log10((t+1)/125.))\n",
        "\n",
        "def updateQ_SARSA(observation,reward,action,ini_obs,next_action,t,eligibility):\n",
        "\tinterval = to_discrete_states(observation)\n",
        "\tQ_next = Q_table[tuple(interval)][next_action]\n",
        "\tini_interval = to_discrete_states(ini_obs)\n",
        "\tlr=max(0.4, expect_alpha(t))\n",
        "\ttd_error=(reward + gamma*(Q_next) - Q_table[tuple(ini_interval)][action])\n",
        "\tQ_table[:,:,action]+=lr*td_error*(eligibility[:,:,action])\n",
        "\n",
        "for episode in range(episodes):\n",
        "    observation = env.reset()\n",
        "    t=0\n",
        "    eligibility = np.zeros((65,65,3))\n",
        "    done=False\n",
        "    while (done==False):\n",
        "        env.render()\n",
        "        action = get_action(observation,episode)\n",
        "        next_obs, reward, done, info = env.step(action)\n",
        "        interval = to_discrete_states(observation)\n",
        "        eligibility *= lambdaa * gamma\n",
        "        eligibility[tuple(interval)][action]+=1\n",
        "        \n",
        "        next_action = get_action(next_obs,episode)\n",
        "        updateQ_SARSA(next_obs,reward,action,observation,next_action,episode,eligibility)\n",
        "        observation=next_obs\n",
        "        action = next_action\n",
        "        t+=1\n",
        "    rewards.append(t+1)\n",
        "    \n",
        "plt.plot(rewards)\n",
        "plt.show()"
      ],
      "metadata": {
        "id": "HZ7Lj-VL1GjX"
      },
      "execution_count": null,
      "outputs": []
    }
  ]
}