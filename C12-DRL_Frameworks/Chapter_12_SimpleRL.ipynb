{
  "nbformat": 4,
  "nbformat_minor": 0,
  "metadata": {
    "celltoolbar": "Raw Cell Format",
    "kernelspec": {
      "display_name": "Python 3",
      "language": "python",
      "name": "python3"
    },
    "language_info": {
      "codemirror_mode": {
        "name": "ipython",
        "version": 3
      },
      "file_extension": ".py",
      "mimetype": "text/x-python",
      "name": "python",
      "nbconvert_exporter": "python",
      "pygments_lexer": "ipython3",
      "version": "3.7.6"
    },
    "colab": {
      "name": "Chapter_12_SimpleRL.ipynb",
      "provenance": [],
      "include_colab_link": true
    }
  },
  "cells": [
    {
      "cell_type": "markdown",
      "metadata": {
        "id": "view-in-github",
        "colab_type": "text"
      },
      "source": [
        "<a href=\"https://colab.research.google.com/github/damianiRiccardo90/RL-4Games/blob/master/C12-DRL_Frameworks/Chapter_12_SimpleRL.ipynb\" target=\"_parent\"><img src=\"https://colab.research.google.com/assets/colab-badge.svg\" alt=\"Open In Colab\"/></a>"
      ]
    },
    {
      "cell_type": "code",
      "source": [
        "from simple_rl.agents import QLearningAgent, RandomAgent, RMaxAgent\n",
        "from simple_rl.tasks import GridWorldMDP\n",
        "from simple_rl.run_experiments import run_agents_on_mdp\n",
        "\n",
        "# Setup MDP.\n",
        "mdp = GridWorldMDP(width=4, height=3, init_loc=(1, 1), goal_locs=[(4, 3)], lava_locs=[(4, 2)], gamma=0.95, walls=[(2, 2)], slip_prob=0.05)\n",
        "\n",
        "# Setup Agents.\n",
        "ql_agent = QLearningAgent(actions=mdp.get_actions())\n",
        "rmax_agent = RMaxAgent(actions=mdp.get_actions())\n",
        "rand_agent = RandomAgent(actions=mdp.get_actions())\n",
        "\n",
        "# Run experiment and make plot.\n",
        "run_agents_on_mdp([ql_agent, rmax_agent, rand_agent], mdp, instances=5, episodes=50, steps=10)"
      ],
      "metadata": {
        "id": "f-3srjpEPI0f"
      },
      "execution_count": null,
      "outputs": []
    }
  ]
}