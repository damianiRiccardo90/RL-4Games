{
  "nbformat": 4,
  "nbformat_minor": 0,
  "metadata": {
    "celltoolbar": "Raw Cell Format",
    "kernelspec": {
      "display_name": "Python 3",
      "language": "python",
      "name": "python3"
    },
    "language_info": {
      "codemirror_mode": {
        "name": "ipython",
        "version": 3
      },
      "file_extension": ".py",
      "mimetype": "text/x-python",
      "name": "python",
      "nbconvert_exporter": "python",
      "pygments_lexer": "ipython3",
      "version": "3.7.6"
    },
    "colab": {
      "name": "Chapter_8_REINFORCE.ipynb",
      "provenance": [],
      "include_colab_link": true
    }
  },
  "cells": [
    {
      "cell_type": "markdown",
      "metadata": {
        "id": "view-in-github",
        "colab_type": "text"
      },
      "source": [
        "<a href=\"https://colab.research.google.com/github/damianiRiccardo90/RL-4Games/blob/master/C8-Policy_Gradient_Methods/Chapter_8_REINFORCE.ipynb\" target=\"_parent\"><img src=\"https://colab.research.google.com/assets/colab-badge.svg\" alt=\"Open In Colab\"/></a>"
      ]
    },
    {
      "cell_type": "code",
      "source": [
        "import gym\n",
        "import torch\n",
        "import torch.nn as nn\n",
        "import torch.nn.functional as F\n",
        "import torch.optim as optim\n",
        "from torch.distributions import Categorical\n",
        "\n",
        "#Hyperparameters\n",
        "learning_rate = 0.0002\n",
        "gamma         = 0.98\n",
        "\n",
        "class REINFORCE(nn.Module):\n",
        "    def __init__(self, input_shape, num_actions):\n",
        "        super(REINFORCE, self).__init__()\n",
        "        self.data = []\n",
        "        \n",
        "        self.fc1 = nn.Linear(input_shape, 128)\n",
        "        self.fc2 = nn.Linear(128, num_actions)\n",
        "        self.optimizer = optim.Adam(self.parameters(), lr=learning_rate)\n",
        "        \n",
        "    def act(self, x):\n",
        "        x = F.relu(self.fc1(x))\n",
        "        x = F.softmax(self.fc2(x), dim=0)\n",
        "        return x\n",
        "      \n",
        "    def put_data(self, item):\n",
        "        self.data.append(item)\n",
        "        \n",
        "    def train_net(self):\n",
        "        R = 0\n",
        "        for r, log_prob in self.data[::-1]:\n",
        "            R = r + gamma * R\n",
        "            loss = -log_prob * R\n",
        "            self.optimizer.zero_grad()\n",
        "            loss.backward()\n",
        "            self.optimizer.step()\n",
        "        self.data = []\n",
        "\n",
        "env = gym.make('LunarLander-v2')\n",
        "pi = REINFORCE(env.observation_space.shape[0], env.action_space.n)\n",
        "score = 0.0\n",
        "print_interval = 100\n",
        "iterations = 10000\n",
        "min_play_reward = 20\n",
        "\n",
        "def play_game():\n",
        "    done = False\n",
        "    state = env.reset()\n",
        "    its = 500\n",
        "    while(not done and its > 0):\n",
        "        its -= 1\n",
        "        prob = pi.act(torch.from_numpy(state).float())\n",
        "        m = Categorical(prob)\n",
        "        action = m.sample()\n",
        "        next_state, reward, done, _ = env.step(action.item())\n",
        "        env.render()\n",
        "        state = next_state\n",
        "\n",
        "for iteration in range(iterations):\n",
        "    s = env.reset()\n",
        "    for t in range(501): # CartPole-v1 forced to terminates at 500 step.\n",
        "        prob = pi.act(torch.from_numpy(s).float())\n",
        "        m = Categorical(prob)\n",
        "        action = m.sample()\n",
        "        s_prime, r, done, info = env.step(action.item())\n",
        "        pi.put_data((r,torch.log(prob[action])))\n",
        "            \n",
        "        s = s_prime\n",
        "        score += r\n",
        "        if done:\n",
        "            if score/print_interval > min_play_reward:\n",
        "                play_game()\n",
        "            break\n",
        "\n",
        "    pi.train_net()\n",
        "        \n",
        "    if iteration%print_interval==0 and iteration!=0:\n",
        "        print(\"# of episode :{}, avg score : {}\".format(iteration, score/print_interval))\n",
        "        score = 0.0\n",
        "        \n",
        "    \n",
        "env.close()"
      ],
      "metadata": {
        "id": "MzM1myFi0-Gh"
      },
      "execution_count": null,
      "outputs": []
    }
  ]
}